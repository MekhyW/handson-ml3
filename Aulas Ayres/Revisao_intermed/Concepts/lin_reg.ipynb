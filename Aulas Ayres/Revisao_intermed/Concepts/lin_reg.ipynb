{
 "cells": [
  {
   "cell_type": "markdown",
   "id": "2e3ed011",
   "metadata": {},
   "source": [
    "# Regressão Linear"
   ]
  },
  {
   "cell_type": "code",
   "execution_count": null,
   "id": "ccb0f6cc",
   "metadata": {},
   "outputs": [],
   "source": [
    "%matplotlib inline\n",
    "import pandas as pd\n",
    "import matplotlib.pyplot as plt\n",
    "import numpy as np"
   ]
  },
  {
   "cell_type": "code",
   "execution_count": null,
   "id": "aa5f8ee0",
   "metadata": {},
   "outputs": [],
   "source": [
    "RANDOM_SEED = 42\n",
    "np.random.seed(RANDOM_SEED)"
   ]
  },
  {
   "cell_type": "markdown",
   "id": "f6b6f094",
   "metadata": {},
   "source": [
    "Os dados já estarão carregados e explorados. Será necessário apenas analisar os gráficos."
   ]
  },
  {
   "cell_type": "markdown",
   "id": "42f0c982",
   "metadata": {},
   "source": [
    "Quando o histograma for uma normal assimétrica para direita (tombada para esquerda), é bom trabalhar com o log dos valores."
   ]
  },
  {
   "cell_type": "markdown",
   "id": "7422988d",
   "metadata": {},
   "source": [
    "## Treinamento e teste"
   ]
  },
  {
   "cell_type": "code",
   "execution_count": null,
   "id": "94f0e60e",
   "metadata": {},
   "outputs": [],
   "source": [
    "from sklearn.model_selection import train_test_sĺit\n",
    "tran_set, test_set = train_test_split(dataset, test_size=0.2, random_state=RANDOM_SEED)"
   ]
  },
  {
   "cell_type": "code",
   "execution_count": null,
   "id": "729358d4",
   "metadata": {},
   "outputs": [],
   "source": [
    "print('{} train + {} test'.format(len(train_set), len(test_set)))"
   ]
  },
  {
   "cell_type": "markdown",
   "id": "8d0bb7d0",
   "metadata": {},
   "source": [
    "## Treinamento e teste estratificados"
   ]
  },
  {
   "cell_type": "markdown",
   "id": "5e20a362",
   "metadata": {},
   "source": [
    "A separação pode levar em conta as colunas existentes ou pode fazer feature engineering para criar um novo critério. No caso do exemplo, é feito feature engineering."
   ]
  },
  {
   "cell_type": "code",
   "execution_count": null,
   "id": "6092aba7",
   "metadata": {},
   "outputs": [],
   "source": [
    "# Constroi uma coluna nova com categorias de renda fictícias.\n",
    "dataset['income_cat'] = np.ceil(dataset['median_income'] / 1.5)\n",
    "dataset['income_cat'].where(dataset['income_cat'] < 5, 5.0, inplace=True)\n",
    "\n",
    "\n",
    "# Divide, de modo estratificado, o conjunto de dados.\n",
    "from sklearn.model_selection import StratifiedShuffleSplit\n",
    "\n",
    "split = StratifiedShuffleSplit(n_splits=1, test_size=0.2, random_state=RANDOM_SEED)\n",
    "for train_index, test_index in split.split(dataset, dataset[\"income_cat\"]):\n",
    "    strat_train_set = dataset.loc[train_index]\n",
    "    strat_test_set = dataset.loc[test_index]"
   ]
  },
  {
   "cell_type": "code",
   "execution_count": null,
   "id": "c1a7f443",
   "metadata": {},
   "outputs": [],
   "source": [
    "# Remove a coluna nova, que foi adicionada apenas temporariamente.\n",
    "strat_train_set.drop(['income_cat'], axis=1, inplace=True)\n",
    "strat_test_set.drop(['income_cat'], axis=1, inplace=True)"
   ]
  },
  {
   "cell_type": "code",
   "execution_count": null,
   "id": "bba6c3ea",
   "metadata": {},
   "outputs": [],
   "source": [
    "strat_train_set.info()"
   ]
  },
  {
   "cell_type": "markdown",
   "id": "afc98bc3",
   "metadata": {},
   "source": [
    "## {{EXPLORAÇÃO}}"
   ]
  },
  {
   "cell_type": "code",
   "execution_count": null,
   "id": "76ea6a47",
   "metadata": {},
   "outputs": [],
   "source": [
    "correlation_matrix = dataset.corr()"
   ]
  },
  {
   "cell_type": "code",
   "execution_count": null,
   "id": "ef3f21b7",
   "metadata": {},
   "outputs": [],
   "source": [
    "correlation_matrix[\"median_house_value\"].sort_values(ascending=False)"
   ]
  },
  {
   "cell_type": "markdown",
   "id": "277c75bc",
   "metadata": {},
   "source": [
    "## Defina a métrica para calcular a qualidade do modelo"
   ]
  },
  {
   "cell_type": "markdown",
   "id": "b3f562b9",
   "metadata": {},
   "source": [
    "## Separando X e y"
   ]
  },
  {
   "cell_type": "code",
   "execution_count": null,
   "id": "5fa08295",
   "metadata": {},
   "outputs": [],
   "source": [
    "# Variáveis independentes: dataset original menos a coluna de valores dependentes.\n",
    "dataset_features = strat_train_set.drop(\"median_house_value\", axis=1)\n",
    "\n",
    "# Variável dependente, também chamada de label.\n",
    "dataset_target = strat_train_set[\"median_house_value\"].copy()"
   ]
  },
  {
   "cell_type": "markdown",
   "id": "ac091dab",
   "metadata": {},
   "source": [
    "## Separando dados categoricos e numericos"
   ]
  },
  {
   "cell_type": "code",
   "execution_count": null,
   "id": "1b5389cf",
   "metadata": {},
   "outputs": [],
   "source": [
    "numeric_dataset = dataset_features.select_dtypes(include=['float64', 'int64'])\n",
    "categ_dataset = dataset_features.select_dtypes(include=['object'])"
   ]
  },
  {
   "cell_type": "markdown",
   "id": "3cd85500",
   "metadata": {},
   "source": [
    "## Criando transformadores"
   ]
  },
  {
   "cell_type": "code",
   "execution_count": null,
   "id": "0fce54f2",
   "metadata": {},
   "outputs": [],
   "source": [
    "from sklearn.base import BaseEstimator, TransformerMixin\n",
    "\n",
    "class CombinedAttributesAdder(BaseEstimator, TransformerMixin):\n",
    "    # Column index.\n",
    "    rooms_ix, bedrooms_ix, population_ix, household_ix = 3, 4, 5, 6\n",
    "    \n",
    "    def __init__(self, add_bedrooms_per_room=True):  # No *args or **kwargs.\n",
    "        self.add_bedrooms_per_room = add_bedrooms_per_room\n",
    "        \n",
    "    def fit(self, X, y=None):\n",
    "        return self  # Nothing else to do.\n",
    "\n",
    "    def transform(self, X, y=None):\n",
    "        rooms_per_household = \\\n",
    "            X[:, CombinedAttributesAdder.rooms_ix] / X[:, CombinedAttributesAdder.household_ix]\n",
    "        population_per_household = \\\n",
    "            X[:, CombinedAttributesAdder.population_ix] / X[:, CombinedAttributesAdder.household_ix]\n",
    "\n",
    "        if self.add_bedrooms_per_room:\n",
    "            bedrooms_per_room = \\\n",
    "                X[:, CombinedAttributesAdder.bedrooms_ix] / X[:, CombinedAttributesAdder.rooms_ix]\n",
    "            return np.c_[X, rooms_per_household, population_per_household, bedrooms_per_room]\n",
    "        else:\n",
    "            return np.c_[X, rooms_per_household, population_per_household]\n",
    "\n",
    "attr_adder = CombinedAttributesAdder(add_bedrooms_per_room=False)\n",
    "housing_extra_attribs = attr_adder.transform(dataset.values)\n",
    "\n",
    "# Transformando em DataFrame, porque DataFrames são mais amigáveis.\n",
    "columns_housing_extra_attribs = list(housing.columns) + [\"rooms_per_household\", \"population_per_household\"]\n",
    "housing_extra_attribs = pd.DataFrame(housing_extra_attribs, columns=columns_housing_extra_attribs)\n",
    "housing_extra_attribs.head()"
   ]
  },
  {
   "cell_type": "markdown",
   "id": "bc5e4c79",
   "metadata": {},
   "source": [
    "## Aplicando transformadores isoladamente"
   ]
  },
  {
   "cell_type": "markdown",
   "id": "48250769",
   "metadata": {},
   "source": [
    "### Caso dos polinomiais, logaritmos, etc"
   ]
  },
  {
   "cell_type": "code",
   "execution_count": null,
   "id": "829b87b0",
   "metadata": {},
   "outputs": [],
   "source": [
    "from sklearn.preprocessing import PolynomialFeatures\n",
    "from sklearn.linear_model import ElasticNet, Lasso, Ridge\n",
    "\n",
    "# Nota: include_bias=False porque o bias (termo constante \"1\") já estará incluso no regressor linear.\n",
    "poly_features = PolynomialFeatures(degree=2, include_bias=False)\n",
    "X_poly = poly_features.fit_transform(X)\n",
    "# Deve ser aplicado a cada feature que apresenta comportamento polinomial.\n",
    "# O mesmo ocorre com outros tipos de funções"
   ]
  },
  {
   "cell_type": "markdown",
   "id": "2d698a16",
   "metadata": {},
   "source": [
    "Compare os resultados obtidos aqui com aqueles da equação normal obtidos anteriormente.\n",
    "\n",
    "Assim como o uso de *features* polinomiais leva a um modelo com melhor ajuste, podemos também usar outras funções como *features*, tais como $\\text{log}()$, $\\text{sin}()$, etc."
   ]
  },
  {
   "cell_type": "code",
   "execution_count": null,
   "id": "ec0b02ba",
   "metadata": {},
   "outputs": [],
   "source": [
    "# Experimento 2: grau adequdo.\n",
    "poly_reg_2 = Pipeline([(\"poly_features\",\n",
    "                        PolynomialFeatures(degree=2, include_bias=False)),\n",
    "                       (\"std_scaler\", StandardScaler()),\n",
    "                       (\"lin_reg\", LinearRegression())]) ## Aqui poderia ser ElasticNet, Lasso, Ridge\n",
    "\n",
    "\"\"\"\n",
    "poly_reg_ridge = Pipeline([\n",
    "    (\"poly_features\", PolynomialFeatures(degree=30, include_bias=False)),\n",
    "    (\"std_scaler\", StandardScaler()),\n",
    "    (\"lin_reg\", Ridge(alpha=alpha)),\n",
    "])\n",
    "\n",
    "poly_reg_lasso = Pipeline([\n",
    "    (\"poly_features\", PolynomialFeatures(degree=30, include_bias=False)),\n",
    "    (\"std_scaler\", StandardScaler()),\n",
    "    (\"lin_reg\", Lasso(alpha=alpha)),\n",
    "])\n",
    "\n",
    "poly_reg_elasticnet = Pipeline([\n",
    "    (\"poly_features\", PolynomialFeatures(degree=30, include_bias=False)),\n",
    "    (\"std_scaler\", StandardScaler()),\n",
    "    (\"lin_reg\", ElasticNet(alpha=alpha, l1_ratio=0.5, random_state=RAND_SEED)),\n",
    "])\n",
    "\"\"\"\n",
    "\n",
    "poly_reg_2.fit(X, y)\n",
    "y_test = poly_reg_2.predict(X_test.reshape(-1, 1))\n",
    "plt.plot(X_test, y_test, 'b-', label='grau 2')"
   ]
  },
  {
   "cell_type": "markdown",
   "id": "e05aa939",
   "metadata": {},
   "source": [
    "### Outros casos"
   ]
  },
  {
   "cell_type": "code",
   "execution_count": null,
   "id": "32f56d47",
   "metadata": {},
   "outputs": [],
   "source": [
    "from sklearn.impute import SimpleImputer\n",
    "from sklearn.preprocessing import StandardScaler\n",
    "\n",
    "from sklearn.preprocessing import OrdinalEncoder ## Se não for ordinal, não deve-se usar\n",
    "from sklearn.preprocessing import OneHotEncoder"
   ]
  },
  {
   "cell_type": "markdown",
   "id": "4b8ca5a5",
   "metadata": {},
   "source": [
    "### Functional transformers"
   ]
  },
  {
   "cell_type": "code",
   "execution_count": null,
   "id": "75f5785a",
   "metadata": {},
   "outputs": [],
   "source": [
    "from sklearn.pipeline import Pipeline\n",
    "from sklearn.preprocessing import FunctionTransformer\n",
    "import numpy as np\n",
    "\n",
    "# Suponha que você tenha um DataFrame pandas chamado 'data' com a coluna 'feature' que deseja aplicar o log.\n",
    "# Substitua 'data' e 'feature' pelo seu DataFrame e nome da coluna.\n",
    "\n",
    "# Define a função que aplicará o log\n",
    "def log_transform(X):\n",
    "    return np.log(X)\n",
    "\n",
    "# Crie um transformador de função\n",
    "log_transformer = FunctionTransformer(func=log_transform, validate=False)\n",
    "\n",
    "# Crie sua pipeline com o transformador de função\n",
    "pipeline = Pipeline([\n",
    "    ('log_transform', log_transformer),\n",
    "    # Adicione outros estágios da sua pipeline aqui, como escalonamento, seleção de recursos, classificação, etc.\n",
    "])\n",
    "\n",
    "# Agora, você pode ajustar sua pipeline aos dados e usá-la para transformar os dados\n",
    "X_transformed = pipeline.fit_transform(data[['feature']])\n"
   ]
  },
  {
   "cell_type": "markdown",
   "id": "7213779c",
   "metadata": {},
   "source": [
    "### Transformadores para numericos"
   ]
  },
  {
   "cell_type": "code",
   "execution_count": null,
   "id": "60a7ee0a",
   "metadata": {},
   "outputs": [],
   "source": [
    "# Cria um imputer que substitui células inválidas (NaN) pela mediana dos valores da coluna à qual a célula pertence.\n",
    "imputer = SimpleImputer(strategy='median')\n",
    "\n",
    "# Antes de treinar o SimpleImputer, remover a coluna de dados categóricos. O dataset resultante tem apenas\n",
    "# as variáveis independentes numéricas.\n",
    "dataset_num = dataset.drop(\"ocean_proximity\", axis=1)\n",
    "\n",
    "# Agora treinar o Imputer. Isto vai causar o cálculo da mediana de cada coluna, \n",
    "# que ficará armazenado no Imputer para uso futuro. \n",
    "imputer.fit(dataset_num)\n",
    "\n",
    "# O Imputer agora tem as estatísticas desejadas armazenadas.\n",
    "print(\"Estatísticas do Imputer:\")\n",
    "print(imputer.statistics_)\n",
    "\n",
    "# Compare com as medianas do DataFrame:\n",
    "print(\"Medianas\")\n",
    "print(dataset_num.median().values)"
   ]
  },
  {
   "cell_type": "code",
   "execution_count": null,
   "id": "3bbf4f76",
   "metadata": {},
   "outputs": [],
   "source": [
    "# Aplicar o Imputer aos nossos dados. O valor de retorno é um ndarray do NumPy.\n",
    "temp = imputer.transform(housing_num)\n",
    "print(type(temp))\n",
    "\n",
    "# Trabalhar com DataFrames geralmente é mais legal - dá para referenciar colunas por nome, ao invés de indices.\n",
    "# Vamos transformar o ndarray em DataFrame.\n",
    "housing_tr = pd.DataFrame(temp, columns=dataset_num.columns)\n",
    "print(type(housing_tr))"
   ]
  },
  {
   "cell_type": "markdown",
   "id": "e7f84527",
   "metadata": {},
   "source": [
    "### Tranformadores para categoricos"
   ]
  },
  {
   "cell_type": "code",
   "execution_count": null,
   "id": "7ebd8e4e",
   "metadata": {},
   "outputs": [],
   "source": [
    "ordinal_encoder = OrdinalEncoder()\n",
    "\n",
    "housing_cat_encoded = ordinal_encoder.fit_transform(housing_cat)\n",
    "housing_cat_encoded[:10]"
   ]
  },
  {
   "cell_type": "code",
   "execution_count": null,
   "id": "ee0fae0a",
   "metadata": {},
   "outputs": [],
   "source": [
    "ordinal_encoder.categories_"
   ]
  },
  {
   "cell_type": "markdown",
   "id": "fecbcac9",
   "metadata": {},
   "source": [
    "Quando usar o OneHotEncoder em regressão linear, lembrar de fazer o $encoder = OneHotEncoder(categories='auto', drop='first')$"
   ]
  },
  {
   "cell_type": "code",
   "execution_count": null,
   "id": "758c30d8",
   "metadata": {},
   "outputs": [],
   "source": [
    "encoder = OneHotEncoder(categories='auto', drop='first')\n",
    "\n",
    "# Aprende a codificação e já aplica a mesma ao dataset fornecido. Todo transformador no sklearn\n",
    "# tem os métodos fit() para aprender a transformação, e transform() para aplicá-la.\n",
    "# O método fit_transform() faz os dois atos em sequência.\n",
    "housing_cat_1hot = encoder.fit_transform(housing_cat)\n",
    "\n",
    "# O resultado da codificação é uma matriz esparsa em NumPy.\n",
    "print(housing_cat_1hot)"
   ]
  },
  {
   "cell_type": "code",
   "execution_count": null,
   "id": "8ed6c49c",
   "metadata": {},
   "outputs": [],
   "source": [
    "# Convertendo em matriz densa só para observar melhor:\n",
    "print(housing_cat_1hot.toarray()[:5])\n",
    "\n",
    "# Você poderia também ter usado sparse=False na criação do OneHotEncoder."
   ]
  },
  {
   "cell_type": "code",
   "execution_count": null,
   "id": "218e6aff",
   "metadata": {},
   "outputs": [],
   "source": [
    "encoder.categories_"
   ]
  },
  {
   "cell_type": "markdown",
   "id": "664ba5c5",
   "metadata": {},
   "source": [
    "## Criando uma pipeline"
   ]
  },
  {
   "cell_type": "code",
   "execution_count": null,
   "id": "a2a46463",
   "metadata": {},
   "outputs": [],
   "source": [
    "from sklearn.pipeline import Pipeline"
   ]
  },
  {
   "cell_type": "code",
   "execution_count": null,
   "id": "6fed35bc",
   "metadata": {},
   "outputs": [],
   "source": [
    "num_pipeline = Pipeline([\n",
    "        ('imputer', SimpleImputer(strategy=\"median\")),\n",
    "        ('attribs_adder', CombinedAttributesAdder()),\n",
    "        ('std_scaler', StandardScaler()),\n",
    "    ])\n",
    "\n",
    "housing_num_tr = num_pipeline.fit_transform(housing_num)\n",
    "housing_num_tr"
   ]
  },
  {
   "cell_type": "code",
   "execution_count": null,
   "id": "6a4cc8d2",
   "metadata": {},
   "outputs": [],
   "source": [
    "cat_pipeline = Pipeline([\n",
    "        ('cat_encoder', OneHotEncoder(sparse=False)),\n",
    "    ])\n",
    "\n",
    "housing_cat_tr = cat_pipeline.fit_transform(housing_cat)\n",
    "housing_cat_tr"
   ]
  },
  {
   "cell_type": "markdown",
   "id": "efdca011",
   "metadata": {},
   "source": [
    "## Aplicando pipelines em paralelo"
   ]
  },
  {
   "cell_type": "markdown",
   "id": "462ca108",
   "metadata": {},
   "source": [
    "Pode-se organizar ColumnTransformer e Pipeline em diversas arquiteturas, em paralelo ou sequenciais. A principal diferença é que ColumnTransformer é paralelo e Pipeline é sequencial."
   ]
  },
  {
   "cell_type": "code",
   "execution_count": null,
   "id": "0390094a",
   "metadata": {},
   "outputs": [],
   "source": [
    "from sklearn.compose import ColumnTransformer\n",
    "\n",
    "num_attribs = list(housing_num)\n",
    "cat_attribs = [\"ocean_proximity\"]\n",
    "\n",
    "full_pipeline = ColumnTransformer([\n",
    "        (\"num\", num_pipeline, num_attribs),\n",
    "        (\"cat\", cat_pipeline, cat_attribs),\n",
    "    ])\n",
    "\n",
    "housing_prepared = full_pipeline.fit_transform(housing)"
   ]
  },
  {
   "cell_type": "code",
   "execution_count": null,
   "id": "964a7d8a",
   "metadata": {},
   "outputs": [],
   "source": [
    "housing_prepared = full_pipeline.fit_transform(housing)\n",
    "housing_prepared[:5]"
   ]
  },
  {
   "cell_type": "markdown",
   "id": "f90203af",
   "metadata": {},
   "source": [
    "## Construindo modelos preditivos"
   ]
  },
  {
   "cell_type": "code",
   "execution_count": null,
   "id": "e6dbaad9",
   "metadata": {},
   "outputs": [],
   "source": [
    "from sklearn.linear_model import LinearRegression\n",
    "\n",
    "lin_reg = LinearRegression()\n",
    "lin_reg.fit(housing_prepared, housing_labels)"
   ]
  },
  {
   "cell_type": "code",
   "execution_count": null,
   "id": "5ee8e050",
   "metadata": {},
   "outputs": [],
   "source": [
    "# Seleciona 5 pontos do conjunto de treinamento.\n",
    "some_data = housing.iloc[:5]\n",
    "some_labels = housing_labels.iloc[:5]\n",
    "\n",
    "# Prepara os dados - não se esqueça deste passo.\n",
    "some_data_prepared = full_pipeline.transform(some_data)\n",
    "\n",
    "# Para obter as previsões, basta chamar o método predict()\n",
    "predicted_labels = lin_reg.predict(some_data_prepared)\n",
    "print(\"Predição: {}\".format(predicted_labels))\n",
    "\n",
    "# Compare com os valores originais:\n",
    "print(\"Original: {}\".format(some_labels.values))"
   ]
  },
  {
   "cell_type": "markdown",
   "id": "b823b87b",
   "metadata": {},
   "source": [
    "## Calculando o erro de predição"
   ]
  },
  {
   "cell_type": "code",
   "execution_count": null,
   "id": "5bf4df8e",
   "metadata": {},
   "outputs": [],
   "source": [
    "from sklearn.metrics import mean_squared_error\n",
    "\n",
    "housing_predictions = lin_reg.predict(housing_prepared)\n",
    "lin_mse = mean_squared_error(housing_labels, housing_predictions)\n",
    "lin_rmse = np.sqrt(lin_mse)\n",
    "print('Regressão linear: RMSE = {:.2f}'.format(lin_rmse))"
   ]
  },
  {
   "cell_type": "markdown",
   "id": "13708a50",
   "metadata": {},
   "source": [
    "## Melhorando nossa avaliação usando validação cruzada"
   ]
  },
  {
   "cell_type": "code",
   "execution_count": null,
   "id": "3fdf05a2",
   "metadata": {},
   "outputs": [],
   "source": [
    "from sklearn.model_selection import cross_val_score\n",
    "\n",
    "lin_scores = cross_val_score(lin_reg, housing_prepared, housing_labels, scoring=\"neg_mean_squared_error\", cv=10)\n",
    "lin_rmse_scores = np.sqrt(-lin_scores)\n",
    "\n",
    "\n",
    "def display_scores(scores):\n",
    "    print(\"Scores (ordenados): [{}]\".format(\" \".join([\"{:.2f}\".format(x) for x in sorted(scores)])))\n",
    "    print(\"Mean:\", scores.mean())\n",
    "    print(\"Standard deviation:\", scores.std())\n",
    "\n",
    "display_scores(lin_rmse_scores)"
   ]
  },
  {
   "cell_type": "markdown",
   "id": "07bc78df",
   "metadata": {},
   "source": [
    "## Comparando modelos com teste de hipótese paramétrico"
   ]
  },
  {
   "cell_type": "markdown",
   "id": "9d6fec72",
   "metadata": {},
   "source": [
    "Provavelmente não será usado na prova"
   ]
  },
  {
   "cell_type": "code",
   "execution_count": null,
   "id": "25794741",
   "metadata": {},
   "outputs": [],
   "source": [
    "from scipy.stats import ttest_ind\n",
    "\n",
    "def compara_scores(scores_1, scores_2):\n",
    "    t_stat, p_value = ttest_ind(scores_1, scores_2, equal_var=False)\n",
    "    print(\"Valor da estatística t: {:.2f}\".format(t_stat))\n",
    "    print(\"Valor-p: {}\".format(p_value))\n",
    "\n",
    "compara_scores(forest_rmse_scores, tree_rmse_scores)"
   ]
  },
  {
   "cell_type": "markdown",
   "id": "9522454f",
   "metadata": {},
   "source": [
    "## Ajustando hiperparametros"
   ]
  },
  {
   "cell_type": "code",
   "execution_count": null,
   "id": "f017a187",
   "metadata": {},
   "outputs": [],
   "source": [
    "from sklearn.model_selection import GridSearchCV\n",
    "\n",
    "from sklearn.model_selection import GridSearchCV\n",
    "from timeit import default_timer\n",
    "\n",
    "param_grid = [\n",
    "    # try 6 (2×3) combinations of hyperparameters\n",
    "    {'n_estimators': [10, 30], 'max_features': [4, 6, 8]},\n",
    "    # then try 4 (1x2×2) combinations with bootstrap set as False\n",
    "    {'bootstrap': [False], 'n_estimators': [3, 10], 'max_features': [3, 4]},\n",
    "  ]\n",
    "\n",
    "forest_reg = RandomForestRegressor(random_state=RANDOM_SEED)\n",
    "\n",
    "# train across 5 folds, that's a total of (6+4)*5=50 rounds of training \n",
    "grid_search = GridSearchCV(forest_reg, param_grid, cv=5, scoring='neg_mean_squared_error', return_train_score=True)\n",
    "\n",
    "grid_search.fit(housing_prepared, housing_labels)"
   ]
  },
  {
   "cell_type": "code",
   "execution_count": null,
   "id": "8cfb4b4e",
   "metadata": {},
   "outputs": [],
   "source": [
    "grid_search.best_params_"
   ]
  },
  {
   "cell_type": "code",
   "execution_count": null,
   "id": "2348ec1d",
   "metadata": {},
   "outputs": [],
   "source": [
    "grid_search.best_estimator_"
   ]
  },
  {
   "cell_type": "code",
   "execution_count": null,
   "id": "bbc281ad",
   "metadata": {},
   "outputs": [],
   "source": [
    "cvres = grid_search.cv_results_\n",
    "for mean_score, params in zip(cvres[\"mean_test_score\"], cvres[\"params\"]):\n",
    "    print(np.sqrt(-mean_score), params)"
   ]
  },
  {
   "cell_type": "markdown",
   "id": "e3faaef8",
   "metadata": {},
   "source": [
    "## Entendendo a importância das features"
   ]
  },
  {
   "cell_type": "code",
   "execution_count": null,
   "id": "0eecab8b",
   "metadata": {},
   "outputs": [],
   "source": [
    "feature_importances = grid_search.best_estimator_.feature_importances_\n",
    "feature_importances"
   ]
  },
  {
   "cell_type": "markdown",
   "id": "38d992e0",
   "metadata": {},
   "source": [
    "Para saber quem-é-quem:"
   ]
  },
  {
   "cell_type": "code",
   "execution_count": null,
   "id": "c394c1fc",
   "metadata": {},
   "outputs": [],
   "source": [
    "extra_attribs = [\"rooms_per_hhold\", \"pop_per_hhold\", \"bedrooms_per_room\"]\n",
    "cat_encoder = cat_pipeline.named_steps[\"cat_encoder\"]\n",
    "cat_one_hot_attribs = list(cat_encoder.categories_[0])\n",
    "attributes = num_attribs + extra_attribs + cat_one_hot_attribs\n",
    "sorted(zip(feature_importances, attributes), reverse=True)"
   ]
  },
  {
   "cell_type": "markdown",
   "id": "0cab1356",
   "metadata": {},
   "source": [
    "## Medir o desempenho final"
   ]
  },
  {
   "cell_type": "code",
   "execution_count": null,
   "id": "399279bc",
   "metadata": {},
   "outputs": [],
   "source": [
    "final_model = grid_search.best_estimator_\n",
    "\n",
    "X_test = strat_test_set.drop(\"median_house_value\", axis=1)\n",
    "y_test = strat_test_set[\"median_house_value\"].copy()\n",
    "\n",
    "X_test_prepared = full_pipeline.transform(X_test)\n",
    "final_predictions = final_model.predict(X_test_prepared)\n",
    "\n",
    "final_mse = mean_squared_error(y_test, final_predictions)\n",
    "final_rmse = np.sqrt(final_mse)\n",
    "\n",
    "print(\"RMSE = {}\".format(final_rmse))"
   ]
  },
  {
   "cell_type": "markdown",
   "id": "49d774a5",
   "metadata": {},
   "source": [
    "## GridSearch para encontrar melhor alpha no Lasso"
   ]
  },
  {
   "cell_type": "code",
   "execution_count": null,
   "id": "56f8c0bf",
   "metadata": {},
   "outputs": [],
   "source": [
    "from sklearn.linear_model import Lasso\n",
    "from sklearn.model_selection import GridSearchCV\n",
    "import numpy as np\n",
    "\n",
    "# Crie um conjunto de dados fictício para fins de exemplo\n",
    "# X e y representam as características e os rótulos, respectivamente\n",
    "np.random.seed(0)\n",
    "X = np.random.rand(100, 10)\n",
    "y = np.random.rand(100)\n",
    "\n",
    "# Defina os valores de alpha que você deseja testar\n",
    "alphas = [0.001, 0.01, 0.1, 1, 10]\n",
    "\n",
    "# Crie um modelo de Lasso Regression\n",
    "lasso = Lasso()\n",
    "\n",
    "# Crie um dicionário com os parâmetros que você deseja ajustar\n",
    "param_grid = {'alpha': alphas}\n",
    "\n",
    "# Use GridSearchCV para encontrar o melhor valor de alpha\n",
    "grid_search = GridSearchCV(lasso, param_grid, cv=5)  # cv é o número de dobras na validação cruzada\n",
    "\n",
    "# Ajuste o modelo aos dados\n",
    "grid_search.fit(X, y)\n",
    "\n",
    "# Imprima o melhor valor de alpha encontrado\n",
    "print(\"Melhor valor de alpha encontrado:\", grid_search.best_params_['alpha'])\n"
   ]
  },
  {
   "cell_type": "markdown",
   "id": "9b3c204c",
   "metadata": {},
   "source": [
    "## GridSearch para encontrar melhor alpha e $r$ no ElasticNet"
   ]
  },
  {
   "cell_type": "code",
   "execution_count": null,
   "id": "d518aad9",
   "metadata": {},
   "outputs": [],
   "source": [
    "from sklearn.linear_model import ElasticNet\n",
    "from sklearn.model_selection import GridSearchCV\n",
    "import numpy as np\n",
    "\n",
    "# Crie um conjunto de dados fictício para fins de exemplo\n",
    "# X e y representam as características e os rótulos, respectivamente\n",
    "np.random.seed(0)\n",
    "X = np.random.rand(100, 10)\n",
    "y = np.random.rand(100)\n",
    "\n",
    "# Defina os valores de alpha e r que você deseja testar\n",
    "alphas = [0.001, 0.01, 0.1, 1, 10]\n",
    "rs = [0.1, 0.5, 0.7, 0.9]\n",
    "\n",
    "# Crie um modelo de ElasticNet Regression\n",
    "elastic_net = ElasticNet()\n",
    "\n",
    "# Crie um dicionário com os parâmetros que você deseja ajustar\n",
    "param_grid = {'alpha': alphas, 'l1_ratio': rs}\n",
    "\n",
    "# Use GridSearchCV para encontrar os melhores valores de alpha e r\n",
    "grid_search = GridSearchCV(elastic_net, param_grid, cv=5)  # cv é o número de dobras na validação cruzada\n",
    "\n",
    "# Ajuste o modelo aos dados\n",
    "grid_search.fit(X, y)\n",
    "\n",
    "# Imprima os melhores valores de alpha e r encontrados\n",
    "print(\"Melhor valor de alpha encontrado:\", grid_search.best_params_['alpha'])\n",
    "print(\"Melhor valor de r encontrado:\", grid_search.best_params_['l1_ratio'])\n"
   ]
  }
 ],
 "metadata": {
  "kernelspec": {
   "display_name": "Python 3 (ipykernel)",
   "language": "python",
   "name": "python3"
  },
  "language_info": {
   "codemirror_mode": {
    "name": "ipython",
    "version": 3
   },
   "file_extension": ".py",
   "mimetype": "text/x-python",
   "name": "python",
   "nbconvert_exporter": "python",
   "pygments_lexer": "ipython3",
   "version": "3.11.0"
  }
 },
 "nbformat": 4,
 "nbformat_minor": 5
}
